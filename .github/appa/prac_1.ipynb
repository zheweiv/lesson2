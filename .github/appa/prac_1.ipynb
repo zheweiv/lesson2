{
 "cells": [
  {
   "cell_type": "code",
   "execution_count": 11,
   "metadata": {},
   "outputs": [
    {
     "name": "stdout",
     "output_type": "stream",
     "text": [
      "arg : 3\n",
      "arg : 4\n",
      "arg : 5\n",
      "12\n"
     ]
    }
   ],
   "source": [
    "def add(*args):\n",
    "    total = 0\n",
    "    for arg in args:\n",
    "        print(f\"arg : {arg}\")\n",
    "        total += arg\n",
    "    return total\n",
    "\n",
    "print( add(3,4,5) )"
   ]
  },
  {
   "cell_type": "code",
   "execution_count": 25,
   "metadata": {},
   "outputs": [
    {
     "name": "stdout",
     "output_type": "stream",
     "text": [
      "key:name value:apple\n",
      "key:age value:25\n",
      "key:career value:teacher\n"
     ]
    }
   ],
   "source": [
    "def print_info(**kwargs):\n",
    "    for key, value in kwargs.items():\n",
    "        print(f\"key:{key} value:{value}\")\n",
    "print_info(name=\"apple\", age=\"25\", career=\"teacher\")\n"
   ]
  },
  {
   "cell_type": "code",
   "execution_count": 31,
   "metadata": {},
   "outputs": [
    {
     "name": "stdout",
     "output_type": "stream",
     "text": [
      "21\n",
      "20\n",
      "21\n"
     ]
    }
   ],
   "source": [
    "import math as m\n",
    "num = 20.6\n",
    "print(m.ceil(num))\n",
    "print(m.floor(num))\n",
    "print(round(num))\n"
   ]
  },
  {
   "cell_type": "code",
   "execution_count": 32,
   "metadata": {},
   "outputs": [],
   "source": [
    "import pp1\n"
   ]
  },
  {
   "cell_type": "code",
   "execution_count": 28,
   "metadata": {},
   "outputs": [
    {
     "name": "stdout",
     "output_type": "stream",
     "text": [
      "You turn it on.\n"
     ]
    },
    {
     "data": {
      "text/plain": [
       "<__main__.Car at 0x7af8bd45a860>"
      ]
     },
     "execution_count": 28,
     "metadata": {},
     "output_type": "execute_result"
    }
   ],
   "source": [
    "class Car():\n",
    "    def turn_on(self):\n",
    "        print(\"You turn it on.\")\n",
    "        return self\n",
    "    \n",
    "    def speed_up(self):\n",
    "        print(\"You feel the speed is getting fast.\")\n",
    "        return self\n",
    "    \n",
    "    def turn_off(self):\n",
    "        print(\"You hear the engine is down\")\n",
    "        return self\n",
    "\n",
    "car = Car()\n",
    "car.turn_on()"
   ]
  },
  {
   "cell_type": "code",
   "execution_count": 34,
   "metadata": {},
   "outputs": [
    {
     "name": "stdout",
     "output_type": "stream",
     "text": [
      "['gg', 'jhjj', 'Q', 'QQ', 'Q']\n"
     ]
    }
   ],
   "source": [
    "foods = []\n",
    "while True:\n",
    "    food = input(\"What foods do you like?\")\n",
    "    if food == \"q\":\n",
    "        break\n",
    "    foods.append(food)\n",
    "\n",
    "print(foods)\n",
    "\n",
    "\n"
   ]
  },
  {
   "cell_type": "code",
   "execution_count": null,
   "metadata": {},
   "outputs": [],
   "source": [
    "\n",
    "\n"
   ]
  }
 ],
 "metadata": {
  "kernelspec": {
   "display_name": "Python 3",
   "language": "python",
   "name": "python3"
  },
  "language_info": {
   "codemirror_mode": {
    "name": "ipython",
    "version": 3
   },
   "file_extension": ".py",
   "mimetype": "text/x-python",
   "name": "python",
   "nbconvert_exporter": "python",
   "pygments_lexer": "ipython3",
   "version": "3.10.14"
  }
 },
 "nbformat": 4,
 "nbformat_minor": 2
}
