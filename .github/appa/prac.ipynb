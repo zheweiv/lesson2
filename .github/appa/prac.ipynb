{
 "cells": [
  {
   "cell_type": "code",
   "execution_count": 61,
   "metadata": {},
   "outputs": [
    {
     "name": "stdout",
     "output_type": "stream",
     "text": [
      "including numbers\n"
     ]
    }
   ],
   "source": [
    "\n",
    "username = input(\"Please enter your name: \")\n",
    "space_find= username.find(\" \")\n",
    "num9_find= username.find(\"9\")\n",
    "num8_find= username.find(\"8\")\n",
    "num7_find= username.find(\"7\")\n",
    "num6_find= username.find(\"6\")\n",
    "num5_find= username.find(\"5\")\n",
    "num4_find= username.find(\"4\")\n",
    "num3_find= username.find(\"3\")\n",
    "num2_find= username.find(\"2\")\n",
    "num1_find= username.find(\"1\")\n",
    "num0_find= username.find(\"0\")\n",
    "\n",
    "#print(f'Hello! {username} \\nWelcome back')\n",
    "\n",
    "if len(username) > 12:\n",
    "    print(\"Your username is longer than 12 digits\")\n",
    "elif space_find > 0:\n",
    "    print(\"Username cannot include space\")\n",
    "elif num0_find := True:\n",
    "    print(\"including numbers\")\n",
    "elif num9_find := True:\n",
    "    print(\"including numbers\")\n",
    "elif num8_find := True:\n",
    "    print(\"including numbers\")\n",
    "elif num7_find := True:\n",
    "    print(\"including numbers\")\n",
    "elif num6_find := True:\n",
    "    print(\"including numbers\")\n",
    "elif num5_find := True:\n",
    "    print(\"including numbers\")\n",
    "elif num4_find := True:\n",
    "    print(\"including numbers\")\n",
    "elif num3_find := True:\n",
    "    print(\"including numbers\")\n",
    "elif num2_find := True:\n",
    "    print(\"including numbers\")\n",
    "elif num1_find := True:\n",
    "    print(\"including numbers\")\n",
    "else:\n",
    "    print(f'Hello! {username} \\nWelcome back')\n"
   ]
  },
  {
   "cell_type": "code",
   "execution_count": 54,
   "metadata": {},
   "outputs": [
    {
     "name": "stdout",
     "output_type": "stream",
     "text": [
      "ok\n"
     ]
    }
   ],
   "source": [
    "username = input(\"Please enter your name: \")\n",
    "space_find= username.find(\" \")\n",
    "num9_find= username.find(\"9\")\n",
    "num8_find= username.find(\"8\")\n",
    "num7_find= username.find(\"7\")\n",
    "num6_find= username.find(\"6\")\n",
    "num5_find= username.find(\"5\")\n",
    "num4_find= username.find(\"4\")\n",
    "num3_find= username.find(\"3\")\n",
    "num2_find= username.find(\"2\")\n",
    "num1_find= username.find(\"1\")\n",
    "num0_find= username.find(\"0\")\n",
    "\n",
    "if num9_find := False:\n",
    "    print(\"including numbers\")\n",
    "elif num8_find := False:\n",
    "    print(\"including numbers\")\n",
    "elif num7_find := False:\n",
    "    print(\"including numbers\")\n",
    "elif num6_find := False:\n",
    "    print(\"including numbers\")\n",
    "elif num5_find := False:\n",
    "    print(\"including numbers\")\n",
    "elif num4_find := False:\n",
    "    print(\"including numbers\")\n",
    "elif num3_find := False:\n",
    "    print(\"including numbers\")\n",
    "elif num2_find := False:\n",
    "    print(\"including numbers\")\n",
    "elif num1_find := False:\n",
    "    print(\"including numbers\")\n",
    "else:\n",
    "    print(\"ok\")"
   ]
  },
  {
   "cell_type": "code",
   "execution_count": null,
   "metadata": {},
   "outputs": [],
   "source": []
  }
 ],
 "metadata": {
  "kernelspec": {
   "display_name": "Python 3",
   "language": "python",
   "name": "python3"
  },
  "language_info": {
   "codemirror_mode": {
    "name": "ipython",
    "version": 3
   },
   "file_extension": ".py",
   "mimetype": "text/x-python",
   "name": "python",
   "nbconvert_exporter": "python",
   "pygments_lexer": "ipython3",
   "version": "3.10.14"
  }
 },
 "nbformat": 4,
 "nbformat_minor": 2
}
