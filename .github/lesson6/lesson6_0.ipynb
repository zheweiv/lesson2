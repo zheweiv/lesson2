{
 "cells": [
  {
   "cell_type": "code",
   "execution_count": null,
   "metadata": {},
   "outputs": [],
   "source": [
    "try: \n",
    "    x = int(input('請輸入整數:'))\n",
    "    print(f'{x}的因數為:')\n",
    "    \n",
    "    for i in range(1,x+1):\n",
    "        if x % i == 0:\n",
    "            print(f'{i}',end=',')\n",
    "        \n",
    "except:\n",
    "    print('format error')"
   ]
  },
  {
   "cell_type": "code",
   "execution_count": null,
   "metadata": {},
   "outputs": [],
   "source": [
    "try: \n",
    "    x = int(input('請輸入整數:'))\n",
    "    print(f'{x}的因數為:')    \n",
    "    is_list = []\n",
    "    for i in range(1,x+1):\n",
    "        if x % i == 0:\n",
    "            is_list.append(str(i))\n",
    "    \n",
    "    print(','.join(is_list))\n",
    "    \n",
    "        \n",
    "except:\n",
    "    print('format error')"
   ]
  }
 ],
 "metadata": {
  "language_info": {
   "name": "python"
  }
 },
 "nbformat": 4,
 "nbformat_minor": 2
}
