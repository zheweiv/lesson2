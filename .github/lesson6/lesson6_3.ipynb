{
 "cells": [
  {
   "cell_type": "code",
   "execution_count": null,
   "metadata": {},
   "outputs": [],
   "source": [
    "import random\n",
    "import pyinputplus as pyip\n",
    "min = 1\n",
    "max = 100\n",
    "count = 0\n",
    "target = random.randint(min,max)\n",
    "print(\"========猜數字遊戲=========\\n\")\n",
    "print(target)\n",
    "while(True):\n",
    "    keyin = pyip.inputInt(f\"猜數字範圍{min}~{max}:\",min=min,max=max)\n",
    "    print(keyin)\n",
    "    count += 1\n",
    "    if keyin == target:\n",
    "        print(f'賓果!猜對了, 答案是:{target}')\n",
    "        print(f'您猜了{count}次')\n",
    "        break\n",
    "    elif (keyin > target):\n",
    "        print(\"再小一點\")\n",
    "        max = keyin - 1\n",
    "    elif (keyin < target):\n",
    "        print(\"再大一點\")\n",
    "        min = keyin + 1\n",
    "    print(f\"您已經猜了{count}次\")\n",
    "        \n",
    "print(\"遊戲結束!\")   "
   ]
  }
 ],
 "metadata": {
  "language_info": {
   "name": "python"
  }
 },
 "nbformat": 4,
 "nbformat_minor": 2
}
