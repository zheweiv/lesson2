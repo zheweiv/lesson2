{
 "cells": [
  {
   "cell_type": "code",
   "execution_count": 6,
   "metadata": {},
   "outputs": [
    {
     "name": "stdout",
     "output_type": "stream",
     "text": [
      "半徑:100.00,園面積:31415.926\n"
     ]
    }
   ],
   "source": [
    "#CountCircleCoverage\n",
    "radius = eval(input('輸入半徑:'))\n",
    "PI = 3.1415926\n",
    "area = PI * radius ** 2\n",
    "print(f'半徑:{radius:.2f},園面積:{area:.3f}')\n"
   ]
  },
  {
   "cell_type": "code",
   "execution_count": 10,
   "metadata": {},
   "outputs": [
    {
     "name": "stdout",
     "output_type": "stream",
     "text": [
      "半徑:100.00,園面積:31415.927\n"
     ]
    }
   ],
   "source": [
    "#CountCircleCoverage\n",
    "import math\n",
    "radius = eval(input('輸入半徑:'))\n",
    "#PI = 3.1415926\n",
    "area = math.pi * radius ** 2\n",
    "print(f'半徑:{radius:.2f},園面積:{area:.3f}')\n"
   ]
  },
  {
   "cell_type": "code",
   "execution_count": 11,
   "metadata": {},
   "outputs": [
    {
     "data": {
      "text/plain": [
       "3.141592653589793"
      ]
     },
     "execution_count": 11,
     "metadata": {},
     "output_type": "execute_result"
    }
   ],
   "source": [
    "math.pi"
   ]
  },
  {
   "cell_type": "code",
   "execution_count": 1,
   "metadata": {},
   "outputs": [
    {
     "name": "stdout",
     "output_type": "stream",
     "text": [
      "徐國堂\n",
      "height:172cm,weight:74kg\n",
      "BMI:25.01\n"
     ]
    }
   ],
   "source": [
    "#BMI Caculator\n",
    "#BMI= kg/(m**2)\n",
    "name = input('請輸入姓名')\n",
    "height = eval(input('請輸入身高(cm)'))\n",
    "weight = eval(input('請輸入體重(kg)'))\n",
    "bmi = weight/((height/100)**2)\n",
    "\n",
    "print(f'{name}')\n",
    "print(f'height:{height}cm,weight:{weight}kg')\n",
    "print(f'BMI:{bmi:.2f}')\n"
   ]
  },
  {
   "cell_type": "code",
   "execution_count": 4,
   "metadata": {},
   "outputs": [
    {
     "ename": "IndentationError",
     "evalue": "unindent does not match any outer indentation level (<tokenize>, line 6)",
     "output_type": "error",
     "traceback": [
      "\u001b[0;36m  File \u001b[0;32m<tokenize>:6\u001b[0;36m\u001b[0m\n\u001b[0;31m    weight = eval(input('weight(kg):'))\u001b[0m\n\u001b[0m    ^\u001b[0m\n\u001b[0;31mIndentationError\u001b[0m\u001b[0;31m:\u001b[0m unindent does not match any outer indentation level\n"
     ]
    }
   ],
   "source": [
    "#BMI defined \n",
    "#BMI = weight/((height/100)**2)\n",
    "\n",
    "try: \n",
    "\theighet = eval(input('height(cm):'))\n",
    "    weight = eval(input('weight(kg):'))\n",
    "    bmi = weight/((height/100)**2)\n",
    "    \n",
    "    print(f'your BMI is: {bmi:.2f}')\n",
    "    \n",
    "\t if bmi < 18.5:\n",
    "\t\tprint('UNDERWEIGHT')\n",
    "\telif bmi < 24:\n",
    "\t\tprint('HEALTH')\n",
    "\telif bmi < 27:\n",
    "\t\tprint('OVERWEIGHT')\n",
    "\telif bmi < 30:\n",
    "\t\tprint('SLIGHT OBESITY')\n",
    "\telif bmi < 35:\n",
    "\t\tprint('MIDDLE OBESITY')\n",
    "\telse:\n",
    "\t\tprint('EXTREME OBESITY')\n",
    "\n",
    "except:\n",
    "\tprint('格式錯誤')"
   ]
  },
  {
   "cell_type": "code",
   "execution_count": 1,
   "metadata": {},
   "outputs": [
    {
     "name": "stdout",
     "output_type": "stream",
     "text": [
      "your BMI is:25.65\n",
      "OVERWEIGHT\n"
     ]
    }
   ],
   "source": [
    "#BMI defined \n",
    "#BMI = weight/((height/100)**2)\n",
    "\n",
    "try: \n",
    "    HEIGHT = eval(input('height(cm):'))\n",
    "    WEIGHT = eval(input('weight(kg):'))\n",
    "    bmi = WEIGHT/((HEIGHT/100)**2)\n",
    "\n",
    "    print(f'your BMI is:{bmi:.2f}')\n",
    "\n",
    "    if bmi < 0:\n",
    "        print('please retry')\n",
    "    elif bmi < 18.5:\n",
    "        print('UNDERWEIGHT')\n",
    "    elif bmi < 24:\n",
    "        print('HEALTH')\n",
    "    elif bmi < 27:\n",
    "        print('OVERWEIGHT')\n",
    "    elif bmi < 30:\n",
    "        print('SLIGHT OBESITY')\n",
    "    elif bmi <35:\n",
    "        print('MIDDLE OBESITY')\n",
    "    else: \n",
    "        print('EXTREME OBESITY')\n",
    "\n",
    "except:\n",
    "    print('wrong fromat')"
   ]
  },
  {
   "cell_type": "code",
   "execution_count": null,
   "metadata": {},
   "outputs": [],
   "source": [
    "\n",
    "\n"
   ]
  },
  {
   "cell_type": "markdown",
   "metadata": {},
   "source": []
  }
 ],
 "metadata": {
  "kernelspec": {
   "display_name": "Python 3",
   "language": "python",
   "name": "python3"
  },
  "language_info": {
   "codemirror_mode": {
    "name": "ipython",
    "version": 3
   },
   "file_extension": ".py",
   "mimetype": "text/x-python",
   "name": "python",
   "nbconvert_exporter": "python",
   "pygments_lexer": "ipython3",
   "version": "3.10.13"
  }
 },
 "nbformat": 4,
 "nbformat_minor": 2
}
