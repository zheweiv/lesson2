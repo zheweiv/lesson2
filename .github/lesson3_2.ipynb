{
 "cells": [
  {
   "cell_type": "code",
   "execution_count": 6,
   "metadata": {},
   "outputs": [
    {
     "name": "stdout",
     "output_type": "stream",
     "text": [
      "半徑:100.00,園面積:31415.926\n"
     ]
    }
   ],
   "source": [
    "#CountCircleCoverage\n",
    "radius = eval(input('輸入半徑:'))\n",
    "PI = 3.1415926\n",
    "area = PI * radius ** 2\n",
    "print(f'半徑:{radius:.2f},園面積:{area:.3f}')\n"
   ]
  },
  {
   "cell_type": "code",
   "execution_count": 10,
   "metadata": {},
   "outputs": [
    {
     "name": "stdout",
     "output_type": "stream",
     "text": [
      "半徑:100.00,園面積:31415.927\n"
     ]
    }
   ],
   "source": [
    "#CountCircleCoverage\n",
    "import math\n",
    "radius = eval(input('輸入半徑:'))\n",
    "#PI = 3.1415926\n",
    "area = math.pi * radius ** 2\n",
    "print(f'半徑:{radius:.2f},園面積:{area:.3f}')\n"
   ]
  },
  {
   "cell_type": "code",
   "execution_count": 11,
   "metadata": {},
   "outputs": [
    {
     "data": {
      "text/plain": [
       "3.141592653589793"
      ]
     },
     "execution_count": 11,
     "metadata": {},
     "output_type": "execute_result"
    }
   ],
   "source": [
    "math.pi"
   ]
  },
  {
   "cell_type": "code",
   "execution_count": 1,
   "metadata": {},
   "outputs": [
    {
     "name": "stdout",
     "output_type": "stream",
     "text": [
      "徐國堂\n",
      "height:172cm,weight:74kg\n",
      "BMI:25.01\n"
     ]
    }
   ],
   "source": [
    "#BMI Caculator\n",
    "#BMI= kg/(m**2)\n",
    "name = input('請輸入姓名')\n",
    "height = eval(input('請輸入身高(cm)'))\n",
    "weight = eval(input('請輸入體重(kg)'))\n",
    "bmi = weight/((height/100)**2)\n",
    "\n",
    "print(f'{name}')\n",
    "print(f'height:{height}cm,weight:{weight}kg')\n",
    "print(f'BMI:{bmi:.2f}')\n"
   ]
  },
  {
   "cell_type": "markdown",
   "metadata": {},
   "source": []
  }
 ],
 "metadata": {
  "kernelspec": {
   "display_name": "Python 3",
   "language": "python",
   "name": "python3"
  },
  "language_info": {
   "codemirror_mode": {
    "name": "ipython",
    "version": 3
   },
   "file_extension": ".py",
   "mimetype": "text/x-python",
   "name": "python",
   "nbconvert_exporter": "python",
   "pygments_lexer": "ipython3",
   "version": "3.10.13"
  }
 },
 "nbformat": 4,
 "nbformat_minor": 2
}
