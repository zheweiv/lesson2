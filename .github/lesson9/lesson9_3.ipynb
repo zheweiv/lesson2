{
 "cells": [
  {
   "cell_type": "code",
   "execution_count": null,
   "metadata": {},
   "outputs": [],
   "source": [
    "stu1:dict = {'name':\"徐國堂\",'chinese':98,'english':76,'math':98}\n",
    "stu1"
   ]
  },
  {
   "cell_type": "code",
   "execution_count": null,
   "metadata": {},
   "outputs": [],
   "source": [
    "dict([('name','徐國堂'),('chinese',98),('english',76),('math',98)])\n"
   ]
  },
  {
   "cell_type": "code",
   "execution_count": null,
   "metadata": {},
   "outputs": [],
   "source": [
    "stu1['name']\n"
   ]
  },
  {
   "cell_type": "code",
   "execution_count": null,
   "metadata": {},
   "outputs": [],
   "source": [
    "from pydantic import BaseModel\n",
    "\n",
    "class Student(BaseModel):\n",
    "    #Field\n",
    "    name:str\n",
    "    chinese:int\n",
    "    english:int\n",
    "    math:int\n",
    "\n",
    "    @property\n",
    "    def sum(self) -> int:\n",
    "        return self.chinese + self.english + self.math\n",
    "\n",
    "    def average(self) -> float:\n",
    "        return round(self.sum / 3,ndigits=2)\n",
    "\n",
    "student1 = Student.model_validate({'name':\"徐國堂\",'chinese':'98','english':'76','math':'98'})\n",
    "print(student1.name)\n",
    "print(student1.chinese)\n",
    "print(student1.english)\n",
    "print(student1.math)\n",
    "print(student1.sum)\n",
    "print(student1.average())"
   ]
  },
  {
   "cell_type": "code",
   "execution_count": null,
   "metadata": {},
   "outputs": [],
   "source": [
    "from pydantic import BaseModel,RootModel\n",
    "\n",
    "source_data:list[dict]= [\n",
    "    {'name':\"徐國堂\",'chinese':'98','english':'76','math':'98'},\n",
    "    {'name':\"張xx\",'chinese':97 ,'english':65.0,'math':'75.0'},\n",
    "    {'name':\"王xx\",'chinese':'65','english':'59','math':'100'},\n",
    "]\n",
    "\n",
    "class Student(BaseModel):\n",
    "    #Field\n",
    "    name:str\n",
    "    chinese:int\n",
    "    english:int\n",
    "    math:int\n",
    "\n",
    "    @property\n",
    "    def sum(self) -> int:\n",
    "        return self.chinese + self.english + self.math\n",
    "\n",
    "    def average(self) -> float:\n",
    "        return round(self.sum / 3,ndigits=2)\n",
    "\n",
    "class AllStudent(RootModel):\n",
    "    root:list[Student]\n",
    "\n",
    "    def __iter__(self):\n",
    "        return iter(self.root)\n",
    "    \n",
    "    def __getitem__(self,item):\n",
    "        return self.root[item]\n",
    "    \n",
    "students:AllStudent = AllStudent.model_validate(source_data)\n",
    "\n",
    "for student in students:\n",
    "    print(student.name)\n",
    "    print(student.chinese)\n",
    "    print(student.english)\n",
    "    print(student.math)\n",
    "    print(student.sum)\n",
    "    print(student.average())\n",
    "    print(\"=============\")"
   ]
  }
 ],
 "metadata": {
  "language_info": {
   "name": "python"
  }
 },
 "nbformat": 4,
 "nbformat_minor": 2
}
