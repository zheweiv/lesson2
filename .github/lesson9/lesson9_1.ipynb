{
 "cells": [
  {
   "cell_type": "code",
   "execution_count": null,
   "metadata": {},
   "outputs": [],
   "source": [
    "class Person():\n",
    "    def __init__(self,n:str):\n",
    "        #建立實體屬性attribute\n",
    "        self.name = n\n",
    "    \n",
    "    #實體的method\n",
    "    def exclaim(self):\n",
    "        print(f\"我的名字是{self.name}\")"
   ]
  },
  {
   "cell_type": "code",
   "execution_count": null,
   "metadata": {},
   "outputs": [],
   "source": [
    "p1 = Person(n='徐國堂')\n",
    "print(type(p1))\n",
    "print(p1.name)\n",
    "p1.exclaim()"
   ]
  },
  {
   "cell_type": "code",
   "execution_count": null,
   "metadata": {},
   "outputs": [],
   "source": [
    "p2 = Person(n='張xx')\n",
    "print(type(p2))\n",
    "print(p2.name)\n",
    "p2.exclaim()"
   ]
  }
 ],
 "metadata": {
  "language_info": {
   "name": "python"
  }
 },
 "nbformat": 4,
 "nbformat_minor": 2
}
