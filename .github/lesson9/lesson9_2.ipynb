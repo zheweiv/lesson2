{
 "cells": [
  {
   "cell_type": "code",
   "execution_count": null,
   "metadata": {},
   "outputs": [],
   "source": [
    "class Person():\n",
    "    def __init__(self,n:str):\n",
    "        #建立實體屬性attribute\n",
    "        self.name = n\n",
    "    \n",
    "    #實體的method\n",
    "    def exclaim(self):\n",
    "        print(f\"我的名字是{self.name}\")\n",
    "\n",
    "class Student(Person):\n",
    "    def __init__(self,na:str,ch:int=0,en:int=0):\n",
    "        super().__init__(n=na)\n",
    "        self.chinese = ch\n",
    "        self.english = en\n",
    "\n",
    "    def sum(self)->int:\n",
    "        return self.chinese + self.english\n",
    "    \n",
    "    @property\n",
    "    def average(self) -> float:\n",
    "        return self.sum() / 2"
   ]
  },
  {
   "cell_type": "code",
   "execution_count": null,
   "metadata": {},
   "outputs": [],
   "source": [
    "stu1 = Student(na=\"徐國堂\",ch=90,en=80)\n",
    "print(type(stu1))\n",
    "stu1.exclaim()\n",
    "print(stu1.chinese)\n",
    "print(stu1.english)\n",
    "print(stu1.sum())\n",
    "print(stu1.average)"
   ]
  },
  {
   "cell_type": "code",
   "execution_count": null,
   "metadata": {},
   "outputs": [],
   "source": [
    "stu2 = Student(na=\"張xx\",ch=100,en=100)\n",
    "print(type(stu2))\n",
    "stu2.exclaim()\n",
    "print(stu2.chinese)\n",
    "print(stu2.english)\n",
    "print(stu2.sum())\n",
    "print(stu2.average)"
   ]
  }
 ],
 "metadata": {
  "language_info": {
   "name": "python"
  }
 },
 "nbformat": 4,
 "nbformat_minor": 2
}
