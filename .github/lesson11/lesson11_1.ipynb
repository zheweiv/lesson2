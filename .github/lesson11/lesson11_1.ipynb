{
 "cells": [
  {
   "cell_type": "code",
   "execution_count": null,
   "metadata": {},
   "outputs": [],
   "source": [
    "import requests\n",
    "from requests import Response\n",
    "def get_response() -> Response | None:\n",
    "    aqi_url = 'https://data.moenv.gov.tw/api/v2/aqx_p_488?api_key=e8dd42e6-9b8b-43f8-991e-b3dee723a52d&limit=1000&sort=datacreationdate desc&format=CSV'\n",
    "    try:\n",
    "        response:Response =requests.get(aqi_url)\n",
    "        response.raise_for_status()\n",
    "        if response.status_code == 200:\n",
    "            print(\"下載成功\")\n",
    "            return response\n",
    "        else:\n",
    "            print(\"下載失敗\")\n",
    "            return None\n",
    "    except Exception as e:\n",
    "        print(e)\n",
    "        print(\"連線失敗\")\n",
    "        return None"
   ]
  },
  {
   "cell_type": "code",
   "execution_count": null,
   "metadata": {},
   "outputs": [],
   "source": [
    "response:Response | None = get_response()\n",
    "if response:\n",
    "    rawString:str = response.text"
   ]
  },
  {
   "cell_type": "code",
   "execution_count": null,
   "metadata": {},
   "outputs": [],
   "source": [
    "print(rawString)\n"
   ]
  },
  {
   "cell_type": "code",
   "execution_count": null,
   "metadata": {},
   "outputs": [],
   "source": [
    "#字串轉為file實體\n",
    "from io import StringIO\n",
    "import csv\n",
    "from csv import DictReader\n",
    "from pprint import pprint\n",
    "file:StringIO = StringIO(rawString)\n",
    "reader:DictReader = csv.DictReader(file)\n",
    "data:list[dict] = list(reader)\n",
    "pprint(data)"
   ]
  }
 ],
 "metadata": {
  "language_info": {
   "name": "python"
  }
 },
 "nbformat": 4,
 "nbformat_minor": 2
}
