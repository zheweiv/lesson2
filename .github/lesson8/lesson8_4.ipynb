{
 "cells": [
  {
   "cell_type": "code",
   "execution_count": null,
   "metadata": {},
   "outputs": [],
   "source": [
    "#list\n",
    "[80, 90, 100]"
   ]
  },
  {
   "cell_type": "code",
   "execution_count": null,
   "metadata": {},
   "outputs": [],
   "source": [
    "#dict\n",
    "\n",
    "scores:dict[str,int] = {'國文':80,\n",
    "          '英文':90,\n",
    "          '數學':100}\n",
    "scores"
   ]
  },
  {
   "cell_type": "code",
   "execution_count": null,
   "metadata": {},
   "outputs": [],
   "source": [
    "#取出值,subscript\n",
    "scores['國文'], scores['英文'], scores['數學']"
   ]
  },
  {
   "cell_type": "code",
   "execution_count": null,
   "metadata": {},
   "outputs": [],
   "source": [
    "for key in scores:\n",
    "    print(scores[key])\n",
    "    "
   ]
  },
  {
   "cell_type": "code",
   "execution_count": null,
   "metadata": {},
   "outputs": [],
   "source": [
    "#建立空的dictionary\n",
    "import random \n",
    "scores:dict[str:int] = {}\n",
    "for item in ['國文','英文','數學']:\n",
    "    scores[item] = random.randint(50,100)\n",
    "scores"
   ]
  },
  {
   "cell_type": "code",
   "execution_count": null,
   "metadata": {},
   "outputs": [],
   "source": [
    "#dict的comprehension {for in}\n",
    "scores:dict[str:int] = {item:random.randint(50,100) for item in['國文','英文','數學']}\n",
    "scores"
   ]
  },
  {
   "cell_type": "code",
   "execution_count": null,
   "metadata": {},
   "outputs": [],
   "source": [
    "#2維資料\n",
    "names:list[dict] = [\n",
    "    {'name':'徐xx','height':178,'weight':78},\n",
    "    {'name':'王xx','height':168,'weight':75},\n",
    "    {'name':'張xx','height':183,'weight':78},\n",
    "]\n",
    "names"
   ]
  },
  {
   "cell_type": "code",
   "execution_count": null,
   "metadata": {},
   "outputs": [],
   "source": [
    "for people in names:\n",
    "    print(people['name'])\n",
    "    print(people['height'])\n",
    "    print(people['weight'])\n",
    "    print(\"========\")"
   ]
  },
  {
   "cell_type": "code",
   "execution_count": null,
   "metadata": {},
   "outputs": [],
   "source": [
    "students:list[dict] = [\n",
    "    {'name':'徐xx','國文':78,'英文':92, '數學':68},\n",
    "    {'name':'王xx','國文':95,'英文':78, '數學':60},\n",
    "    {'name':'張xx','國文':69,'英文':87, '數學':68},    \n",
    "]"
   ]
  },
  {
   "cell_type": "code",
   "execution_count": null,
   "metadata": {},
   "outputs": [],
   "source": [
    "for student in students:\n",
    "    print(f\"姓名:{student['name']}\")\n",
    "    total:int = student['國文'] + student['英文'] + student['數學']\n",
    "    print(f'總分:{total}')\n",
    "    print(\"================\")"
   ]
  }
 ],
 "metadata": {
  "language_info": {
   "name": "python"
  }
 },
 "nbformat": 4,
 "nbformat_minor": 2
}
