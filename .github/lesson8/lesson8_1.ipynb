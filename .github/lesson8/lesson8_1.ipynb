{
 "cells": [
  {
   "cell_type": "code",
   "execution_count": null,
   "metadata": {},
   "outputs": [],
   "source": [
    "#tuple\n",
    "mytuple:tuple[int] = (67,89,92)\n",
    "print(mytuple)\n",
    "\n",
    "#list\n",
    "mylist:list[int] = [67, 89, 92]\n",
    "print(mylist)"
   ]
  },
  {
   "cell_type": "code",
   "execution_count": null,
   "metadata": {},
   "outputs": [],
   "source": [
    "#tuple常用的拆解法\n",
    "chinese, english, math= 67,89,92\n",
    "print(chinese, english, math)\n",
    "\n",
    "chinese, english, math"
   ]
  },
  {
   "cell_type": "code",
   "execution_count": null,
   "metadata": {},
   "outputs": [],
   "source": [
    "scores:list[int] = [67, 89, 92]\n",
    "print(scores)\n",
    "print(type(scores))"
   ]
  },
  {
   "cell_type": "code",
   "execution_count": null,
   "metadata": {},
   "outputs": [],
   "source": [
    "#透過索引取出值(subscript)\n",
    "scores[0], scores[1], scores[2]"
   ]
  },
  {
   "cell_type": "code",
   "execution_count": null,
   "metadata": {},
   "outputs": [],
   "source": [
    "#list是iterable的資料\n",
    "for value in scores:\n",
    "    print(value)"
   ]
  },
  {
   "cell_type": "code",
   "execution_count": null,
   "metadata": {},
   "outputs": [],
   "source": [
    "#透過subscript改變元素值\n",
    "scores[0] = 80\n",
    "scores[1] = 90\n",
    "scores[2] = 100\n",
    "\n",
    "for value in scores:\n",
    "    print(value)"
   ]
  },
  {
   "cell_type": "code",
   "execution_count": null,
   "metadata": {},
   "outputs": [],
   "source": [
    "scores:list[int] = []\n",
    "scores.append(80)\n",
    "scores.append(90)\n",
    "scores.append(100)\n",
    "scores"
   ]
  },
  {
   "cell_type": "code",
   "execution_count": null,
   "metadata": {},
   "outputs": [],
   "source": [
    "scores:list[int] = list()\n",
    "scores.extend((80, 90, 100))\n",
    "scores"
   ]
  },
  {
   "cell_type": "code",
   "execution_count": null,
   "metadata": {},
   "outputs": [],
   "source": [
    "scores:list[int] = list()\n",
    "scores.extend((80, 90, 100))\n",
    "scores.pop()\n",
    "scores.pop()\n",
    "scores.pop()\n",
    "scores"
   ]
  },
  {
   "cell_type": "code",
   "execution_count": null,
   "metadata": {},
   "outputs": [],
   "source": [
    "scores:list[int] = list()\n",
    "scores.extend((80, 90, 100))\n",
    "scores.clear()\n",
    "scores"
   ]
  }
 ],
 "metadata": {
  "language_info": {
   "name": "python"
  }
 },
 "nbformat": 4,
 "nbformat_minor": 2
}
