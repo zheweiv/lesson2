{
 "cells": [
  {
   "cell_type": "code",
   "execution_count": null,
   "metadata": {},
   "outputs": [],
   "source": [
    "def inputFloat(prompt:str,min:float,max:float)->float:\n",
    "    while(True):\n",
    "        try:\n",
    "            value:float = float(input(prompt))\n",
    "            if value >= min and value <= max:\n",
    "                return value\n",
    "            else:\n",
    "                value = input(\"輸入的範圍有問題請重新輸入:\")                \n",
    "        except:\n",
    "           print(\"格式有問題請重新輸入\")\n",
    "           continue\n",
    "            \n",
    "        \n",
    "        \n",
    "\n",
    "    \n",
    "height = inputFloat(\"請輸入身高:\",min=0,max=300)\n",
    "\n",
    "weight = inputFloat(\"請輸入體重:\",min=0,max=300)\n",
    "\n",
    "bmi = weight / (height / 100) ** 2\n",
    "\n",
    "print(f'您的BMI是: {bmi:.1f}')\n",
    "\n",
    "if bmi < 18.5:\n",
    "    msg = '體重過輕'\n",
    "elif bmi < 24:\n",
    "    msg = '正常範圍'\n",
    "elif bmi < 27:\n",
    "    msg = '過重'\n",
    "elif bmi < 30:\n",
    "    msg = '輕度肥胖'\n",
    "elif bmi < 35:\n",
    "    msg = '中度肥胖'\n",
    "else:\n",
    "    msg = '重度肥胖'\n",
    "\n",
    "print(f'您的體重: {msg}')"
   ]
  }
 ],
 "metadata": {
  "language_info": {
   "name": "python"
  }
 },
 "nbformat": 4,
 "nbformat_minor": 2
}
