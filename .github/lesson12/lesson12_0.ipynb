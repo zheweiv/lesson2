{
 "cells": [
  {
   "cell_type": "code",
   "execution_count": 94,
   "metadata": {},
   "outputs": [
    {
     "ename": "ModuleNotFoundError",
     "evalue": "No module named 'requests'",
     "output_type": "error",
     "traceback": [
      "\u001b[0;31m---------------------------------------------------------------------------\u001b[0m",
      "\u001b[0;31mModuleNotFoundError\u001b[0m                       Traceback (most recent call last)",
      "Cell \u001b[0;32mIn[94], line 1\u001b[0m\n\u001b[0;32m----> 1\u001b[0m \u001b[38;5;28;01mfrom\u001b[39;00m \u001b[38;5;21;01mrequests\u001b[39;00m \u001b[38;5;28;01mimport\u001b[39;00m Response\n\u001b[1;32m      2\u001b[0m \u001b[38;5;28;01mimport\u001b[39;00m \u001b[38;5;21;01mrequests\u001b[39;00m\n\u001b[1;32m      3\u001b[0m \u001b[38;5;28;01mimport\u001b[39;00m \u001b[38;5;21;01mcsv\u001b[39;00m\n",
      "\u001b[0;31mModuleNotFoundError\u001b[0m: No module named 'requests'"
     ]
    }
   ],
   "source": [
    "from requests import Response\n",
    "import requests\n",
    "import csv\n",
    "from io import StringIO\n",
    "\n",
    "def main():\n",
    "    link = 'https://raw.githubusercontent.com/roberthsu2003/__2024_02_20_2_4__/main/lesson11/students.csv'\n",
    "    try :\n",
    "        down:Response=requests.get(link)\n",
    "        \n",
    "    except:\n",
    "        print(\"Error\")\n",
    "        return\n",
    "    else:\n",
    "      if down.status_code != 200:\n",
    "        print(\"status_code不正確\")\n",
    "        return\n",
    "        \n",
    "    file:str=down.text\n",
    "    b:StringIO=StringIO(file)\n",
    "    cs=csv.DictReader(b)\n",
    "    data:list[dict]=list(cs)\n",
    "    for i in data:\n",
    "        print(i)\n",
    "    \n",
    "main()"
   ]
  },
  {
   "cell_type": "code",
   "execution_count": 95,
   "metadata": {},
   "outputs": [
    {
     "ename": "ModuleNotFoundError",
     "evalue": "No module named 'requests'",
     "output_type": "error",
     "traceback": [
      "\u001b[0;31m---------------------------------------------------------------------------\u001b[0m",
      "\u001b[0;31mModuleNotFoundError\u001b[0m                       Traceback (most recent call last)",
      "Cell \u001b[0;32mIn[95], line 1\u001b[0m\n\u001b[0;32m----> 1\u001b[0m \u001b[38;5;28;01mimport\u001b[39;00m \u001b[38;5;21;01mrequests\u001b[39;00m\n",
      "\u001b[0;31mModuleNotFoundError\u001b[0m: No module named 'requests'"
     ]
    }
   ],
   "source": [
    "import requests"
   ]
  },
  {
   "cell_type": "code",
   "execution_count": null,
   "metadata": {},
   "outputs": [],
   "source": []
  },
  {
   "cell_type": "code",
   "execution_count": null,
   "metadata": {},
   "outputs": [],
   "source": []
  },
  {
   "cell_type": "code",
   "execution_count": 40,
   "metadata": {},
   "outputs": [
    {
     "name": "stdout",
     "output_type": "stream",
     "text": [
      "100瓶蘋果汁總共要花2334.00\n"
     ]
    }
   ],
   "source": [
    "\n",
    "a = int(input(\"請輸入要購買的蘋果汁數量:\"))\n",
    "total = float(a * 23.34)\n",
    "b = total\n",
    "\n",
    "print(f\"{a}瓶蘋果汁總共要花{b:.2f}\")\n",
    "\n"
   ]
  },
  {
   "cell_type": "code",
   "execution_count": 61,
   "metadata": {},
   "outputs": [
    {
     "name": "stdout",
     "output_type": "stream",
     "text": [
      "error\n"
     ]
    }
   ],
   "source": [
    "\n",
    "scores = int(input(\"please enter your score:\"))\n",
    "\n",
    "if scores > 100:\n",
    "    print(\"error\")\n",
    "elif scores > 60:\n",
    "    adjusted = scores + 10\n",
    "    print(f\"Your new score is {adjusted}\")\n",
    "elif 0 < scores <=60:\n",
    "    adjusted = scores - 5\n",
    "    print(f\"Your new score is {adjusted}\")\n",
    "elif scores <0:\n",
    "    print(\"error\")\n",
    "else:\n",
    "    print(\"error\")\n",
    "\n"
   ]
  },
  {
   "cell_type": "code",
   "execution_count": 87,
   "metadata": {},
   "outputs": [
    {
     "name": "stdout",
     "output_type": "stream",
     "text": [
      "-1\n"
     ]
    }
   ],
   "source": [
    "\n",
    "def compute():\n",
    "    \n",
    "    a = int(input(\"分數判斷:\"))\n",
    "    if a > 100 or a < 0:\n",
    "        print(\"-1\")\n",
    "    elif a >= 60:\n",
    "        print(f\"{a+5}\")\n",
    "    else:\n",
    "        print(f\"{a+10}\")\n",
    "   \n",
    "\n",
    "compute()\n"
   ]
  },
  {
   "cell_type": "code",
   "execution_count": 91,
   "metadata": {},
   "outputs": [
    {
     "data": {
      "text/plain": [
       "2"
      ]
     },
     "execution_count": 91,
     "metadata": {},
     "output_type": "execute_result"
    }
   ],
   "source": [
    "\n",
    "a = str(input(\"請輸入第一個相同長度的字串(共兩個)及一個正整數\"))\n",
    "b = str(input(\"請輸入第二個相同長度的字串(共兩個)及一個正整數\"))\n",
    "n = int(input(\"請輸入一個正整數:\"))\n",
    "\n",
    "def compare():\n",
    "    if a \n",
    "\n",
    "\n",
    "\n",
    "a\n",
    "b\n",
    "n\n"
   ]
  },
  {
   "cell_type": "code",
   "execution_count": null,
   "metadata": {},
   "outputs": [],
   "source": []
  }
 ],
 "metadata": {
  "kernelspec": {
   "display_name": "Python 3",
   "language": "python",
   "name": "python3"
  },
  "language_info": {
   "codemirror_mode": {
    "name": "ipython",
    "version": 3
   },
   "file_extension": ".py",
   "mimetype": "text/x-python",
   "name": "python",
   "nbconvert_exporter": "python",
   "pygments_lexer": "ipython3",
   "version": "3.10.14"
  }
 },
 "nbformat": 4,
 "nbformat_minor": 2
}
